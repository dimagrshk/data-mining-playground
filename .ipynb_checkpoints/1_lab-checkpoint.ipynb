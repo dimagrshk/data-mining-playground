{
 "cells": [
  {
   "cell_type": "code",
   "execution_count": 14,
   "metadata": {
    "collapsed": true
   },
   "outputs": [],
   "source": [
    "import pandas as pd\n",
    "import numpy as np\n",
    "from scipy.spatial import distance, distance_matrix\n",
    "from scipy.spatial.distance import pdist\n",
    "from pandas import ExcelWriter\n",
    "from pandas import ExcelFile\n",
    "\n",
    "from typing import List"
   ]
  },
  {
   "cell_type": "code",
   "execution_count": 13,
   "metadata": {
    "scrolled": true
   },
   "outputs": [
    {
     "data": {
      "text/plain": [
       "5    202\n",
       "3    199\n",
       "8    189\n",
       "2    189\n",
       "7    131\n",
       "1    103\n",
       "4     61\n",
       "6     33\n",
       "Name: C8, dtype: int64"
      ]
     },
     "execution_count": 13,
     "metadata": {},
     "output_type": "execute_result"
    }
   ],
   "source": [
    "X_8 = pd.read_excel('8clusters.xlsx', sheetname='Data')\n",
    "X_12 = pd.read_excel('12clusters.xlsx', sheetname='Data')\n",
    "X_14 = pd.read_excel('14clusters.xlsx', sheetname='Data')\n",
    "datasets = [X_8, X_12, X_14]\n",
    "# X_8.iloc[:,1].value_counts()\n",
    "# X_8.iloc[:,1].unique()"
   ]
  },
  {
   "cell_type": "code",
   "execution_count": 23,
   "metadata": {},
   "outputs": [
    {
     "ename": "NameError",
     "evalue": "name 'func' is not defined",
     "output_type": "error",
     "traceback": [
      "\u001b[0;31m---------------------------------------------------------------------------\u001b[0m",
      "\u001b[0;31mNameError\u001b[0m                                 Traceback (most recent call last)",
      "\u001b[0;32m<ipython-input-23-f5282aae056e>\u001b[0m in \u001b[0;36m<module>\u001b[0;34m()\u001b[0m\n\u001b[1;32m      4\u001b[0m             for i in sorted(X.iloc[:,1].unique())]\n\u001b[1;32m      5\u001b[0m \u001b[0;34m\u001b[0m\u001b[0m\n\u001b[0;32m----> 6\u001b[0;31m \u001b[0;32mdef\u001b[0m \u001b[0mdifferences\u001b[0m\u001b[0;34m(\u001b[0m\u001b[0mX\u001b[0m\u001b[0;34m:\u001b[0m \u001b[0mpd\u001b[0m\u001b[0;34m.\u001b[0m\u001b[0mDataFrame\u001b[0m\u001b[0;34m,\u001b[0m \u001b[0mm\u001b[0m\u001b[0;34m:\u001b[0m \u001b[0mList\u001b[0m\u001b[0;34m[\u001b[0m\u001b[0mfloat\u001b[0m\u001b[0;34m]\u001b[0m\u001b[0;34m,\u001b[0m \u001b[0mmetric\u001b[0m\u001b[0;34m:\u001b[0m \u001b[0mfunc\u001b[0m\u001b[0;34m)\u001b[0m\u001b[0;34m:\u001b[0m\u001b[0;34m\u001b[0m\u001b[0m\n\u001b[0m\u001b[1;32m      7\u001b[0m     \u001b[0;32mreturn\u001b[0m \u001b[0;34m[\u001b[0m\u001b[0mmetric\u001b[0m\u001b[0;34m(\u001b[0m\u001b[0mu\u001b[0m\u001b[0;34m,\u001b[0m\u001b[0mm\u001b[0m\u001b[0;34m)\u001b[0m \u001b[0;32mfor\u001b[0m \u001b[0mindex\u001b[0m\u001b[0;34m,\u001b[0m \u001b[0mu\u001b[0m \u001b[0;32min\u001b[0m \u001b[0mX\u001b[0m\u001b[0;34m.\u001b[0m\u001b[0miterrows\u001b[0m\u001b[0;34m(\u001b[0m\u001b[0;34m)\u001b[0m\u001b[0;34m]\u001b[0m\u001b[0;34m\u001b[0m\u001b[0m\n\u001b[1;32m      8\u001b[0m \u001b[0;34m\u001b[0m\u001b[0m\n",
      "\u001b[0;31mNameError\u001b[0m: name 'func' is not defined"
     ]
    }
   ],
   "source": [
    "def centrs_cluster(X):\n",
    "    data = X.iloc[:,2:]\n",
    "    return [data.loc[X.iloc[:,1] == i].mean().as_matrix() \n",
    "            for i in sorted(X.iloc[:,1].unique())]\n",
    "\n",
    "def differences(X: pd.DataFrame, m: List[float], metric: func):\n",
    "    return [metric(u,m) for _, u in X.iterrows()]\n",
    "\n",
    "def nCr(n,r):\n",
    "    import math\n",
    "    f = math.factorial\n",
    "    return f(n) / f(r) / f(n-r)\n",
    "    \n",
    "def up(X, metric):\n",
    "    clusters = X_8.iloc[:,1].unique()\n",
    "    num_objects = X.iloc[:,1].value_counts()\n",
    "    centres = centrs_cluster(X)\n",
    "    data = X.iloc[:,2:]\n",
    "    return np.mean([ sum(\n",
    "                     differences(data.loc[X.iloc[:,1] == c], centres[c-1], metric)\n",
    "                     ) / num_objects[c] \n",
    "                        for c in clusters ])\n",
    "\n",
    "def down(X, metric=\"euclidean\"):\n",
    "    clusters = X.iloc[:,1].value_counts().index.tolist()\n",
    "    centres = centrs_cluster(X)\n",
    "    return sum(pdist(centrs_cluster(X), metric=metric))/nCr(len(clusters), 2)"
   ]
  },
  {
   "cell_type": "code",
   "execution_count": 22,
   "metadata": {
    "collapsed": true,
    "scrolled": false
   },
   "outputs": [],
   "source": [
    "inside_group = np.array([up(X, distance.euclidean) for X in datasets])\n",
    "outside_group = np.array([down(X) for X in datasets])\n",
    "devided = inside_group/outside_group"
   ]
  },
  {
   "cell_type": "code",
   "execution_count": 17,
   "metadata": {},
   "outputs": [
    {
     "data": {
      "text/html": [
       "<div>\n",
       "<style>\n",
       "    .dataframe thead tr:only-child th {\n",
       "        text-align: right;\n",
       "    }\n",
       "\n",
       "    .dataframe thead th {\n",
       "        text-align: left;\n",
       "    }\n",
       "\n",
       "    .dataframe tbody tr th {\n",
       "        vertical-align: top;\n",
       "    }\n",
       "</style>\n",
       "<table border=\"1\" class=\"dataframe\">\n",
       "  <thead>\n",
       "    <tr style=\"text-align: right;\">\n",
       "      <th></th>\n",
       "      <th>name</th>\n",
       "      <th>8 cluster</th>\n",
       "      <th>12 cluster</th>\n",
       "      <th>14 cluster</th>\n",
       "      <th>better</th>\n",
       "    </tr>\n",
       "  </thead>\n",
       "  <tbody>\n",
       "    <tr>\n",
       "      <th>0</th>\n",
       "      <td>inside</td>\n",
       "      <td>36.842863</td>\n",
       "      <td>35.424134</td>\n",
       "      <td>35.454535</td>\n",
       "      <td>35.424134</td>\n",
       "    </tr>\n",
       "    <tr>\n",
       "      <th>1</th>\n",
       "      <td>outside</td>\n",
       "      <td>66.920037</td>\n",
       "      <td>76.606897</td>\n",
       "      <td>77.296405</td>\n",
       "      <td>77.296405</td>\n",
       "    </tr>\n",
       "    <tr>\n",
       "      <th>2</th>\n",
       "      <td>devided</td>\n",
       "      <td>0.550551</td>\n",
       "      <td>0.462414</td>\n",
       "      <td>0.458683</td>\n",
       "      <td>0.458683</td>\n",
       "    </tr>\n",
       "  </tbody>\n",
       "</table>\n",
       "</div>"
      ],
      "text/plain": [
       "      name  8 cluster  12 cluster  14 cluster     better\n",
       "0   inside  36.842863   35.424134   35.454535  35.424134\n",
       "1  outside  66.920037   76.606897   77.296405  77.296405\n",
       "2  devided   0.550551    0.462414    0.458683   0.458683"
      ]
     },
     "execution_count": 17,
     "metadata": {},
     "output_type": "execute_result"
    }
   ],
   "source": [
    "pd.DataFrame([[\"inside\", *inside_group, min(inside_group)], \n",
    "              [\"outside\", *outside_group, max(outside_group)], \n",
    "              [\"devided\", *devided, min(devided)]], \n",
    "              columns=[\"name\", \"8 cluster\", \"12 cluster\", \"14 cluster\", \"better\"])"
   ]
  },
  {
   "cell_type": "code",
   "execution_count": 18,
   "metadata": {
    "collapsed": true
   },
   "outputs": [],
   "source": [
    "inside_group = np.array([up(X, distance.sqeuclidean) for X in datasets])\n",
    "outside_group = np.array([down(X, \"sqeuclidean\") for X in datasets])\n",
    "devided = inside_group/outside_group"
   ]
  },
  {
   "cell_type": "code",
   "execution_count": 20,
   "metadata": {},
   "outputs": [
    {
     "data": {
      "text/html": [
       "<div>\n",
       "<style>\n",
       "    .dataframe thead tr:only-child th {\n",
       "        text-align: right;\n",
       "    }\n",
       "\n",
       "    .dataframe thead th {\n",
       "        text-align: left;\n",
       "    }\n",
       "\n",
       "    .dataframe tbody tr th {\n",
       "        vertical-align: top;\n",
       "    }\n",
       "</style>\n",
       "<table border=\"1\" class=\"dataframe\">\n",
       "  <thead>\n",
       "    <tr style=\"text-align: right;\">\n",
       "      <th></th>\n",
       "      <th>name</th>\n",
       "      <th>8 cluster</th>\n",
       "      <th>12 cluster</th>\n",
       "      <th>14 cluster</th>\n",
       "      <th>better</th>\n",
       "    </tr>\n",
       "  </thead>\n",
       "  <tbody>\n",
       "    <tr>\n",
       "      <th>0</th>\n",
       "      <td>inside</td>\n",
       "      <td>1542.635191</td>\n",
       "      <td>1408.393874</td>\n",
       "      <td>1414.321541</td>\n",
       "      <td>1408.393874</td>\n",
       "    </tr>\n",
       "    <tr>\n",
       "      <th>1</th>\n",
       "      <td>outside</td>\n",
       "      <td>4964.938492</td>\n",
       "      <td>6959.309481</td>\n",
       "      <td>7025.475336</td>\n",
       "      <td>7025.475336</td>\n",
       "    </tr>\n",
       "    <tr>\n",
       "      <th>2</th>\n",
       "      <td>devided</td>\n",
       "      <td>0.310706</td>\n",
       "      <td>0.202376</td>\n",
       "      <td>0.201313</td>\n",
       "      <td>0.201313</td>\n",
       "    </tr>\n",
       "  </tbody>\n",
       "</table>\n",
       "</div>"
      ],
      "text/plain": [
       "      name    8 cluster   12 cluster   14 cluster       better\n",
       "0   inside  1542.635191  1408.393874  1414.321541  1408.393874\n",
       "1  outside  4964.938492  6959.309481  7025.475336  7025.475336\n",
       "2  devided     0.310706     0.202376     0.201313     0.201313"
      ]
     },
     "execution_count": 20,
     "metadata": {},
     "output_type": "execute_result"
    }
   ],
   "source": [
    "pd.DataFrame([[\"inside\", *inside_group, min(inside_group)], \n",
    "              [\"outside\", *outside_group, max(outside_group)], \n",
    "              [\"devided\", *devided, min(devided)]], \n",
    "              columns=[\"name\", \"8 cluster\", \"12 cluster\", \"14 cluster\", \"better\"])"
   ]
  },
  {
   "cell_type": "code",
   "execution_count": null,
   "metadata": {
    "collapsed": true
   },
   "outputs": [],
   "source": []
  }
 ],
 "metadata": {
  "kernelspec": {
   "display_name": "Python 3",
   "language": "python",
   "name": "python3"
  },
  "language_info": {
   "codemirror_mode": {
    "name": "ipython",
    "version": 3
   },
   "file_extension": ".py",
   "mimetype": "text/x-python",
   "name": "python",
   "nbconvert_exporter": "python",
   "pygments_lexer": "ipython3",
   "version": "3.6.3"
  }
 },
 "nbformat": 4,
 "nbformat_minor": 2
}
