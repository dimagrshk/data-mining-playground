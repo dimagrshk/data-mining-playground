{
 "cells": [
  {
   "cell_type": "code",
   "execution_count": 84,
   "metadata": {
    "collapsed": true
   },
   "outputs": [],
   "source": [
    "import pandas as pd\n",
    "import numpy as np\n",
    "from scipy.spatial import distance, distance_matrix\n",
    "from scipy.spatial.distance import pdist\n",
    "from pandas import ExcelWriter\n",
    "from pandas import ExcelFile"
   ]
  },
  {
   "cell_type": "code",
   "execution_count": 85,
   "metadata": {
    "scrolled": true
   },
   "outputs": [],
   "source": [
    "X_8 = pd.read_excel('8clusters.xlsx', sheetname='Data')\n",
    "X_12 = pd.read_excel('12clusters.xlsx', sheetname='Data')\n",
    "X_14 = pd.read_excel('14clusters.xlsx', sheetname='Data')\n",
    "datasets = [X_8, X_12, X_14]"
   ]
  },
  {
   "cell_type": "code",
   "execution_count": 86,
   "metadata": {
    "collapsed": true
   },
   "outputs": [],
   "source": [
    "def centrs_cluster(X):\n",
    "    data = X.iloc[:,2:]\n",
    "    return [data.loc[X.iloc[:,1] == i].mean().as_matrix() \n",
    "            for i in sorted(X.iloc[:,1].unique())]\n",
    "\n",
    "def differences(X, m, metric):\n",
    "    return [metric(u,m) for index, u in X.iterrows()]\n",
    "\n",
    "def nCr(n,r):\n",
    "    f = math.factorial\n",
    "    return f(n) / f(r) / f(n-r)\n",
    "    \n",
    "def up(X, metric):\n",
    "    clusters = X.iloc[:,1].value_counts().index.tolist()\n",
    "    num_objects = X.iloc[:,1].value_counts()\n",
    "    centres = centrs_cluster(X)\n",
    "    data = X.iloc[:,2:]\n",
    "    return np.mean([ sum(\n",
    "                     differences(data.loc[X.iloc[:,1] == c], centres[c-1], metric)\n",
    "                     ) / num_objects[c] \n",
    "                        for c in clusters ])\n",
    "\n",
    "def down(X, metric=\"euclidean\"):\n",
    "    clusters = X.iloc[:,1].value_counts().index.tolist()\n",
    "    centres = centrs_cluster(X)\n",
    "    return sum(pdist(centrs_cluster(X), metric=metric))/nCr(len(clusters), 2)"
   ]
  },
  {
   "cell_type": "code",
   "execution_count": 87,
   "metadata": {
    "scrolled": false
   },
   "outputs": [],
   "source": [
    "inside_group = np.array([up(X, distance.euclidean) for X in datasets])\n",
    "outside_group = np.array([down(X) for X in datasets])\n",
    "devided = inside_group/outside_group"
   ]
  },
  {
   "cell_type": "code",
   "execution_count": 88,
   "metadata": {},
   "outputs": [
    {
     "data": {
      "text/html": [
       "<div>\n",
       "<style>\n",
       "    .dataframe thead tr:only-child th {\n",
       "        text-align: right;\n",
       "    }\n",
       "\n",
       "    .dataframe thead th {\n",
       "        text-align: left;\n",
       "    }\n",
       "\n",
       "    .dataframe tbody tr th {\n",
       "        vertical-align: top;\n",
       "    }\n",
       "</style>\n",
       "<table border=\"1\" class=\"dataframe\">\n",
       "  <thead>\n",
       "    <tr style=\"text-align: right;\">\n",
       "      <th></th>\n",
       "      <th>name</th>\n",
       "      <th>8 cluster</th>\n",
       "      <th>12 cluster</th>\n",
       "      <th>14 cluster</th>\n",
       "    </tr>\n",
       "  </thead>\n",
       "  <tbody>\n",
       "    <tr>\n",
       "      <th>0</th>\n",
       "      <td>inside</td>\n",
       "      <td>36.842863</td>\n",
       "      <td>28.537577</td>\n",
       "      <td>31.603595</td>\n",
       "    </tr>\n",
       "    <tr>\n",
       "      <th>1</th>\n",
       "      <td>outside</td>\n",
       "      <td>66.920037</td>\n",
       "      <td>76.606897</td>\n",
       "      <td>77.296405</td>\n",
       "    </tr>\n",
       "    <tr>\n",
       "      <th>2</th>\n",
       "      <td>devided</td>\n",
       "      <td>0.550551</td>\n",
       "      <td>0.372520</td>\n",
       "      <td>0.408862</td>\n",
       "    </tr>\n",
       "  </tbody>\n",
       "</table>\n",
       "</div>"
      ],
      "text/plain": [
       "      name  8 cluster  12 cluster  14 cluster\n",
       "0   inside  36.842863   28.537577   31.603595\n",
       "1  outside  66.920037   76.606897   77.296405\n",
       "2  devided   0.550551    0.372520    0.408862"
      ]
     },
     "execution_count": 88,
     "metadata": {},
     "output_type": "execute_result"
    }
   ],
   "source": [
    "pd.DataFrame([[\"inside\", *inside_group], \n",
    "              [\"outside\", *outside_group], \n",
    "              [\"devided\", *devided]], \n",
    "              columns=[\"name\", \"8 cluster\", \"12 cluster\", \"14 cluster\"])"
   ]
  },
  {
   "cell_type": "code",
   "execution_count": 89,
   "metadata": {},
   "outputs": [],
   "source": [
    "inside_group = np.array([up(X, distance.sqeuclidean) for X in datasets])\n",
    "outside_group = np.array([down(X, \"sqeuclidean\") for X in datasets])\n",
    "devided = inside_group/outside_group"
   ]
  },
  {
   "cell_type": "code",
   "execution_count": 90,
   "metadata": {},
   "outputs": [
    {
     "data": {
      "text/html": [
       "<div>\n",
       "<style>\n",
       "    .dataframe thead tr:only-child th {\n",
       "        text-align: right;\n",
       "    }\n",
       "\n",
       "    .dataframe thead th {\n",
       "        text-align: left;\n",
       "    }\n",
       "\n",
       "    .dataframe tbody tr th {\n",
       "        vertical-align: top;\n",
       "    }\n",
       "</style>\n",
       "<table border=\"1\" class=\"dataframe\">\n",
       "  <thead>\n",
       "    <tr style=\"text-align: right;\">\n",
       "      <th></th>\n",
       "      <th>name</th>\n",
       "      <th>8 cluster</th>\n",
       "      <th>12 cluster</th>\n",
       "      <th>14 cluster</th>\n",
       "    </tr>\n",
       "  </thead>\n",
       "  <tbody>\n",
       "    <tr>\n",
       "      <th>0</th>\n",
       "      <td>inside</td>\n",
       "      <td>1542.635191</td>\n",
       "      <td>1093.817289</td>\n",
       "      <td>1202.456790</td>\n",
       "    </tr>\n",
       "    <tr>\n",
       "      <th>1</th>\n",
       "      <td>outside</td>\n",
       "      <td>4964.938492</td>\n",
       "      <td>6959.309481</td>\n",
       "      <td>7025.475336</td>\n",
       "    </tr>\n",
       "    <tr>\n",
       "      <th>2</th>\n",
       "      <td>devided</td>\n",
       "      <td>0.310706</td>\n",
       "      <td>0.157173</td>\n",
       "      <td>0.171157</td>\n",
       "    </tr>\n",
       "  </tbody>\n",
       "</table>\n",
       "</div>"
      ],
      "text/plain": [
       "      name    8 cluster   12 cluster   14 cluster\n",
       "0   inside  1542.635191  1093.817289  1202.456790\n",
       "1  outside  4964.938492  6959.309481  7025.475336\n",
       "2  devided     0.310706     0.157173     0.171157"
      ]
     },
     "execution_count": 90,
     "metadata": {},
     "output_type": "execute_result"
    }
   ],
   "source": [
    "pd.DataFrame([[\"inside\", *inside_group], \n",
    "              [\"outside\", *outside_group], \n",
    "              [\"devided\", *devided]], \n",
    "              columns=[\"name\", \"8 cluster\", \"12 cluster\", \"14 cluster\"])"
   ]
  },
  {
   "cell_type": "code",
   "execution_count": null,
   "metadata": {
    "collapsed": true
   },
   "outputs": [],
   "source": []
  }
 ],
 "metadata": {
  "kernelspec": {
   "display_name": "Python 3",
   "language": "python",
   "name": "python3"
  },
  "language_info": {
   "codemirror_mode": {
    "name": "ipython",
    "version": 3
   },
   "file_extension": ".py",
   "mimetype": "text/x-python",
   "name": "python",
   "nbconvert_exporter": "python",
   "pygments_lexer": "ipython3",
   "version": "3.6.3"
  }
 },
 "nbformat": 4,
 "nbformat_minor": 2
}
