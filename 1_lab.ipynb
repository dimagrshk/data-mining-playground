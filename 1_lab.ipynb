{
 "cells": [
  {
   "cell_type": "code",
   "execution_count": 64,
   "metadata": {
    "collapsed": true
   },
   "outputs": [],
   "source": [
    "import pandas as pd\n",
    "import numpy as np\n",
    "from scipy.spatial import distance, distance_matrix\n",
    "from scipy.spatial.distance import pdist\n",
    "from pandas import ExcelWriter\n",
    "from pandas import ExcelFile"
   ]
  },
  {
   "cell_type": "code",
   "execution_count": 65,
   "metadata": {
    "scrolled": true
   },
   "outputs": [],
   "source": [
    "X_8 = pd.read_excel('8clusters.xlsx', sheetname='Data')\n",
    "X_12 = pd.read_excel('12clusters.xlsx', sheetname='Data')\n",
    "X_14 = pd.read_excel('14clusters.xlsx', sheetname='Data')\n",
    "datasets = [X_8, X_12, X_14]"
   ]
  },
  {
   "cell_type": "code",
   "execution_count": 66,
   "metadata": {},
   "outputs": [],
   "source": [
    "def centrs_cluster(X):\n",
    "    data = X.iloc[:,2:]\n",
    "    return [data.loc[X.iloc[:,1] == i].mean().as_matrix() \n",
    "            for i in sorted(X.iloc[:,1].unique())]\n",
    "\n",
    "def differences(X, m, metric):\n",
    "    return [metric(u,m) for _, u in X.iterrows()]\n",
    "\n",
    "def nCr(n,r):\n",
    "    import math\n",
    "    f = math.factorial\n",
    "    return f(n) / f(r) / f(n-r)\n",
    "    \n",
    "def up(X, metric):\n",
    "    clusters = X_8.iloc[:,1].unique()\n",
    "    centres = centrs_cluster(X)\n",
    "    data = X.iloc[:,2:]\n",
    "    return np.mean([np.mean( differences(data.loc[X.iloc[:,1] == c], centres[c-1], metric) )\n",
    "                    for c in clusters])\n",
    "\n",
    "def down(X, metric=\"euclidean\"):\n",
    "    clusters = X_8.iloc[:,1].unique()\n",
    "    centres = centrs_cluster(X)\n",
    "    return sum(pdist(centrs_cluster(X), metric=metric))/nCr(len(clusters), 2)"
   ]
  },
  {
   "cell_type": "code",
   "execution_count": 67,
   "metadata": {
    "scrolled": false
   },
   "outputs": [
    {
     "data": {
      "text/html": [
       "<div>\n",
       "<style>\n",
       "    .dataframe thead tr:only-child th {\n",
       "        text-align: right;\n",
       "    }\n",
       "\n",
       "    .dataframe thead th {\n",
       "        text-align: left;\n",
       "    }\n",
       "\n",
       "    .dataframe tbody tr th {\n",
       "        vertical-align: top;\n",
       "    }\n",
       "</style>\n",
       "<table border=\"1\" class=\"dataframe\">\n",
       "  <thead>\n",
       "    <tr style=\"text-align: right;\">\n",
       "      <th></th>\n",
       "      <th>name</th>\n",
       "      <th>8 cluster</th>\n",
       "      <th>12 cluster</th>\n",
       "      <th>14 cluster</th>\n",
       "      <th>better</th>\n",
       "    </tr>\n",
       "  </thead>\n",
       "  <tbody>\n",
       "    <tr>\n",
       "      <th>0</th>\n",
       "      <td>inside</td>\n",
       "      <td>36.842863</td>\n",
       "      <td>35.424134</td>\n",
       "      <td>35.454535</td>\n",
       "      <td>35.424134</td>\n",
       "    </tr>\n",
       "    <tr>\n",
       "      <th>1</th>\n",
       "      <td>outside</td>\n",
       "      <td>66.920037</td>\n",
       "      <td>180.573399</td>\n",
       "      <td>251.213317</td>\n",
       "      <td>251.213317</td>\n",
       "    </tr>\n",
       "    <tr>\n",
       "      <th>2</th>\n",
       "      <td>devided</td>\n",
       "      <td>0.550551</td>\n",
       "      <td>0.196176</td>\n",
       "      <td>0.141133</td>\n",
       "      <td>0.141133</td>\n",
       "    </tr>\n",
       "  </tbody>\n",
       "</table>\n",
       "</div>"
      ],
      "text/plain": [
       "      name  8 cluster  12 cluster  14 cluster      better\n",
       "0   inside  36.842863   35.424134   35.454535   35.424134\n",
       "1  outside  66.920037  180.573399  251.213317  251.213317\n",
       "2  devided   0.550551    0.196176    0.141133    0.141133"
      ]
     },
     "execution_count": 67,
     "metadata": {},
     "output_type": "execute_result"
    }
   ],
   "source": [
    "inside_group = np.array([up(X, distance.euclidean) for X in datasets])\n",
    "outside_group = np.array([down(X) for X in datasets])\n",
    "devided = inside_group/outside_group\n",
    "\n",
    "pd.DataFrame([[\"inside\", *inside_group, min(inside_group)], \n",
    "              [\"outside\", *outside_group, max(outside_group)], \n",
    "              [\"devided\", *devided, min(devided)]], \n",
    "              columns=[\"name\", \"8 cluster\", \"12 cluster\", \"14 cluster\", \"better\"])"
   ]
  },
  {
   "cell_type": "code",
   "execution_count": 68,
   "metadata": {},
   "outputs": [
    {
     "data": {
      "text/html": [
       "<div>\n",
       "<style>\n",
       "    .dataframe thead tr:only-child th {\n",
       "        text-align: right;\n",
       "    }\n",
       "\n",
       "    .dataframe thead th {\n",
       "        text-align: left;\n",
       "    }\n",
       "\n",
       "    .dataframe tbody tr th {\n",
       "        vertical-align: top;\n",
       "    }\n",
       "</style>\n",
       "<table border=\"1\" class=\"dataframe\">\n",
       "  <thead>\n",
       "    <tr style=\"text-align: right;\">\n",
       "      <th></th>\n",
       "      <th>name</th>\n",
       "      <th>8 cluster</th>\n",
       "      <th>12 cluster</th>\n",
       "      <th>14 cluster</th>\n",
       "      <th>better</th>\n",
       "    </tr>\n",
       "  </thead>\n",
       "  <tbody>\n",
       "    <tr>\n",
       "      <th>0</th>\n",
       "      <td>inside</td>\n",
       "      <td>1542.635191</td>\n",
       "      <td>1408.393874</td>\n",
       "      <td>1414.321541</td>\n",
       "      <td>1408.393874</td>\n",
       "    </tr>\n",
       "    <tr>\n",
       "      <th>1</th>\n",
       "      <td>outside</td>\n",
       "      <td>4964.938492</td>\n",
       "      <td>16404.086635</td>\n",
       "      <td>22832.794843</td>\n",
       "      <td>22832.794843</td>\n",
       "    </tr>\n",
       "    <tr>\n",
       "      <th>2</th>\n",
       "      <td>devided</td>\n",
       "      <td>0.310706</td>\n",
       "      <td>0.085856</td>\n",
       "      <td>0.061943</td>\n",
       "      <td>0.061943</td>\n",
       "    </tr>\n",
       "  </tbody>\n",
       "</table>\n",
       "</div>"
      ],
      "text/plain": [
       "      name    8 cluster    12 cluster    14 cluster        better\n",
       "0   inside  1542.635191   1408.393874   1414.321541   1408.393874\n",
       "1  outside  4964.938492  16404.086635  22832.794843  22832.794843\n",
       "2  devided     0.310706      0.085856      0.061943      0.061943"
      ]
     },
     "execution_count": 68,
     "metadata": {},
     "output_type": "execute_result"
    }
   ],
   "source": [
    "inside_group = np.array([up(X, distance.sqeuclidean) for X in datasets])\n",
    "outside_group = np.array([down(X, \"sqeuclidean\") for X in datasets])\n",
    "devided = inside_group/outside_group\n",
    "\n",
    "pd.DataFrame([[\"inside\", *inside_group, min(inside_group)], \n",
    "              [\"outside\", *outside_group, max(outside_group)], \n",
    "              [\"devided\", *devided, min(devided)]], \n",
    "              columns=[\"name\", \"8 cluster\", \"12 cluster\", \"14 cluster\", \"better\"])"
   ]
  },
  {
   "cell_type": "markdown",
   "metadata": {
    "collapsed": true
   },
   "source": [
    "# Normalized data"
   ]
  },
  {
   "cell_type": "code",
   "execution_count": 69,
   "metadata": {},
   "outputs": [],
   "source": [
    "from sklearn import preprocessing\n",
    "min_max_scaler = preprocessing.MinMaxScaler()\n",
    "\n",
    "def norm_data(X):\n",
    "    x_scaled = min_max_scaler.fit_transform(X.iloc[:,2:].values)\n",
    "    X.iloc[:,2:] = x_scaled\n",
    "    return X"
   ]
  },
  {
   "cell_type": "code",
   "execution_count": 70,
   "metadata": {},
   "outputs": [
    {
     "name": "stderr",
     "output_type": "stream",
     "text": [
      "/nix/store/i9yk45439h7wk5syf1s3d4arx56v6wqk-python3.6-scikit-learn-0.19.0/lib/python3.6/site-packages/sklearn/utils/validation.py:444: DataConversionWarning: Data with input dtype int64 was converted to float64 by MinMaxScaler.\n",
      "  warnings.warn(msg, DataConversionWarning)\n"
     ]
    },
    {
     "data": {
      "text/html": [
       "<div>\n",
       "<style>\n",
       "    .dataframe thead tr:only-child th {\n",
       "        text-align: right;\n",
       "    }\n",
       "\n",
       "    .dataframe thead th {\n",
       "        text-align: left;\n",
       "    }\n",
       "\n",
       "    .dataframe tbody tr th {\n",
       "        vertical-align: top;\n",
       "    }\n",
       "</style>\n",
       "<table border=\"1\" class=\"dataframe\">\n",
       "  <thead>\n",
       "    <tr style=\"text-align: right;\">\n",
       "      <th></th>\n",
       "      <th>name</th>\n",
       "      <th>8 cluster</th>\n",
       "      <th>12 cluster</th>\n",
       "      <th>14 cluster</th>\n",
       "      <th>better</th>\n",
       "    </tr>\n",
       "  </thead>\n",
       "  <tbody>\n",
       "    <tr>\n",
       "      <th>0</th>\n",
       "      <td>inside</td>\n",
       "      <td>0.400438</td>\n",
       "      <td>0.386218</td>\n",
       "      <td>0.385696</td>\n",
       "      <td>0.385696</td>\n",
       "    </tr>\n",
       "    <tr>\n",
       "      <th>1</th>\n",
       "      <td>outside</td>\n",
       "      <td>0.721546</td>\n",
       "      <td>1.969706</td>\n",
       "      <td>2.723437</td>\n",
       "      <td>2.723437</td>\n",
       "    </tr>\n",
       "    <tr>\n",
       "      <th>2</th>\n",
       "      <td>devided</td>\n",
       "      <td>0.554972</td>\n",
       "      <td>0.196079</td>\n",
       "      <td>0.141621</td>\n",
       "      <td>0.141621</td>\n",
       "    </tr>\n",
       "  </tbody>\n",
       "</table>\n",
       "</div>"
      ],
      "text/plain": [
       "      name  8 cluster  12 cluster  14 cluster    better\n",
       "0   inside   0.400438    0.386218    0.385696  0.385696\n",
       "1  outside   0.721546    1.969706    2.723437  2.723437\n",
       "2  devided   0.554972    0.196079    0.141621  0.141621"
      ]
     },
     "execution_count": 70,
     "metadata": {},
     "output_type": "execute_result"
    }
   ],
   "source": [
    "scaled_datasets = list(map(norm_data, datasets))\n",
    "\n",
    "inside_group = np.array([up(X, distance.euclidean) for X in scaled_datasets])\n",
    "outside_group = np.array([down(X) for X in scaled_datasets])\n",
    "devided = inside_group/outside_group\n",
    "\n",
    "pd.DataFrame([[\"inside\", *inside_group, min(inside_group)], \n",
    "              [\"outside\", *outside_group, max(outside_group)], \n",
    "              [\"devided\", *devided, min(devided)]], \n",
    "              columns=[\"name\", \"8 cluster\", \"12 cluster\", \"14 cluster\", \"better\"])"
   ]
  },
  {
   "cell_type": "code",
   "execution_count": 71,
   "metadata": {},
   "outputs": [
    {
     "data": {
      "text/html": [
       "<div>\n",
       "<style>\n",
       "    .dataframe thead tr:only-child th {\n",
       "        text-align: right;\n",
       "    }\n",
       "\n",
       "    .dataframe thead th {\n",
       "        text-align: left;\n",
       "    }\n",
       "\n",
       "    .dataframe tbody tr th {\n",
       "        vertical-align: top;\n",
       "    }\n",
       "</style>\n",
       "<table border=\"1\" class=\"dataframe\">\n",
       "  <thead>\n",
       "    <tr style=\"text-align: right;\">\n",
       "      <th></th>\n",
       "      <th>name</th>\n",
       "      <th>8 cluster</th>\n",
       "      <th>12 cluster</th>\n",
       "      <th>14 cluster</th>\n",
       "      <th>better</th>\n",
       "    </tr>\n",
       "  </thead>\n",
       "  <tbody>\n",
       "    <tr>\n",
       "      <th>0</th>\n",
       "      <td>inside</td>\n",
       "      <td>0.181106</td>\n",
       "      <td>0.166363</td>\n",
       "      <td>0.166106</td>\n",
       "      <td>0.166106</td>\n",
       "    </tr>\n",
       "    <tr>\n",
       "      <th>1</th>\n",
       "      <td>outside</td>\n",
       "      <td>0.579323</td>\n",
       "      <td>1.961136</td>\n",
       "      <td>2.674454</td>\n",
       "      <td>2.674454</td>\n",
       "    </tr>\n",
       "    <tr>\n",
       "      <th>2</th>\n",
       "      <td>devided</td>\n",
       "      <td>0.312617</td>\n",
       "      <td>0.084830</td>\n",
       "      <td>0.062108</td>\n",
       "      <td>0.062108</td>\n",
       "    </tr>\n",
       "  </tbody>\n",
       "</table>\n",
       "</div>"
      ],
      "text/plain": [
       "      name  8 cluster  12 cluster  14 cluster    better\n",
       "0   inside   0.181106    0.166363    0.166106  0.166106\n",
       "1  outside   0.579323    1.961136    2.674454  2.674454\n",
       "2  devided   0.312617    0.084830    0.062108  0.062108"
      ]
     },
     "execution_count": 71,
     "metadata": {},
     "output_type": "execute_result"
    }
   ],
   "source": [
    "inside_group = np.array([up(X, distance.sqeuclidean) for X in datasets])\n",
    "outside_group = np.array([down(X, \"sqeuclidean\") for X in datasets])\n",
    "devided = inside_group/outside_group\n",
    "\n",
    "pd.DataFrame([[\"inside\", *inside_group, min(inside_group)], \n",
    "              [\"outside\", *outside_group, max(outside_group)], \n",
    "              [\"devided\", *devided, min(devided)]], \n",
    "              columns=[\"name\", \"8 cluster\", \"12 cluster\", \"14 cluster\", \"better\"])"
   ]
  },
  {
   "cell_type": "code",
   "execution_count": null,
   "metadata": {
    "collapsed": true
   },
   "outputs": [],
   "source": []
  }
 ],
 "metadata": {
  "kernelspec": {
   "display_name": "Python 3",
   "language": "python",
   "name": "python3"
  },
  "language_info": {
   "codemirror_mode": {
    "name": "ipython",
    "version": 3
   },
   "file_extension": ".py",
   "mimetype": "text/x-python",
   "name": "python",
   "nbconvert_exporter": "python",
   "pygments_lexer": "ipython3",
   "version": "3.6.3"
  }
 },
 "nbformat": 4,
 "nbformat_minor": 2
}
